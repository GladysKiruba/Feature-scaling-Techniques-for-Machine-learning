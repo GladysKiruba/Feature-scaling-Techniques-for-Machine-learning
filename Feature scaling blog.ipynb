{
 "cells": [
  {
   "cell_type": "markdown",
   "id": "ea8d45bb",
   "metadata": {},
   "source": [
    "# Feature scaling Techniques for Machine learning "
   ]
  },
  {
   "cell_type": "code",
   "execution_count": 19,
   "id": "883f9be9",
   "metadata": {},
   "outputs": [],
   "source": [
    "# Importing libraries\n",
    "import numpy as np\n",
    "import pandas as pd\n",
    "from sklearn import preprocessing"
   ]
  },
  {
   "cell_type": "code",
   "execution_count": 2,
   "id": "d50cb361",
   "metadata": {},
   "outputs": [
    {
     "data": {
      "text/html": [
       "<div>\n",
       "<style scoped>\n",
       "    .dataframe tbody tr th:only-of-type {\n",
       "        vertical-align: middle;\n",
       "    }\n",
       "\n",
       "    .dataframe tbody tr th {\n",
       "        vertical-align: top;\n",
       "    }\n",
       "\n",
       "    .dataframe thead th {\n",
       "        text-align: right;\n",
       "    }\n",
       "</style>\n",
       "<table border=\"1\" class=\"dataframe\">\n",
       "  <thead>\n",
       "    <tr style=\"text-align: right;\">\n",
       "      <th></th>\n",
       "      <th>index</th>\n",
       "      <th>Height</th>\n",
       "      <th>Weight</th>\n",
       "      <th>Age</th>\n",
       "    </tr>\n",
       "  </thead>\n",
       "  <tbody>\n",
       "    <tr>\n",
       "      <th>0</th>\n",
       "      <td>1</td>\n",
       "      <td>159</td>\n",
       "      <td>65</td>\n",
       "      <td>45</td>\n",
       "    </tr>\n",
       "    <tr>\n",
       "      <th>1</th>\n",
       "      <td>2</td>\n",
       "      <td>156</td>\n",
       "      <td>64</td>\n",
       "      <td>89</td>\n",
       "    </tr>\n",
       "    <tr>\n",
       "      <th>2</th>\n",
       "      <td>3</td>\n",
       "      <td>151</td>\n",
       "      <td>60</td>\n",
       "      <td>20</td>\n",
       "    </tr>\n",
       "    <tr>\n",
       "      <th>3</th>\n",
       "      <td>4</td>\n",
       "      <td>165</td>\n",
       "      <td>75</td>\n",
       "      <td>55</td>\n",
       "    </tr>\n",
       "    <tr>\n",
       "      <th>4</th>\n",
       "      <td>5</td>\n",
       "      <td>139</td>\n",
       "      <td>50</td>\n",
       "      <td>61</td>\n",
       "    </tr>\n",
       "  </tbody>\n",
       "</table>\n",
       "</div>"
      ],
      "text/plain": [
       "   index   Height  Weight  Age\n",
       "0       1     159      65   45\n",
       "1       2     156      64   89\n",
       "2       3     151      60   20\n",
       "3       4     165      75   55\n",
       "4       5     139      50   61"
      ]
     },
     "execution_count": 2,
     "metadata": {},
     "output_type": "execute_result"
    }
   ],
   "source": [
    "# Loading dataset\n",
    "Data=pd.read_csv(\"C:\\\\Users\\\\Shabu\\\\Desktop\\\\Height.Weight,Age.csv\")\n",
    "Data.head()"
   ]
  },
  {
   "cell_type": "code",
   "execution_count": 4,
   "id": "ca78775a",
   "metadata": {},
   "outputs": [
    {
     "data": {
      "text/plain": [
       "(20, 4)"
      ]
     },
     "execution_count": 4,
     "metadata": {},
     "output_type": "execute_result"
    }
   ],
   "source": [
    "# Shape of the dataset\n",
    "Data.shape"
   ]
  },
  {
   "cell_type": "code",
   "execution_count": 5,
   "id": "e47840f7",
   "metadata": {},
   "outputs": [],
   "source": [
    "# Splitting dependent and independent variable\n",
    "X= Data.drop('Age', axis=1)\n",
    "y=Data['Age']"
   ]
  },
  {
   "cell_type": "code",
   "execution_count": 6,
   "id": "7c98f728",
   "metadata": {},
   "outputs": [],
   "source": [
    "# Splitting test and train dataset\n",
    "from sklearn.model_selection import train_test_split\n",
    "X_train, X_test,y_train, y_test = train_test_split(X,y ,random_state=3,test_size=0.10)"
   ]
  },
  {
   "cell_type": "code",
   "execution_count": 7,
   "id": "66c49858",
   "metadata": {},
   "outputs": [
    {
     "data": {
      "text/html": [
       "<div>\n",
       "<style scoped>\n",
       "    .dataframe tbody tr th:only-of-type {\n",
       "        vertical-align: middle;\n",
       "    }\n",
       "\n",
       "    .dataframe tbody tr th {\n",
       "        vertical-align: top;\n",
       "    }\n",
       "\n",
       "    .dataframe thead th {\n",
       "        text-align: right;\n",
       "    }\n",
       "</style>\n",
       "<table border=\"1\" class=\"dataframe\">\n",
       "  <thead>\n",
       "    <tr style=\"text-align: right;\">\n",
       "      <th></th>\n",
       "      <th>index</th>\n",
       "      <th>Height</th>\n",
       "      <th>Weight</th>\n",
       "    </tr>\n",
       "  </thead>\n",
       "  <tbody>\n",
       "    <tr>\n",
       "      <th>1</th>\n",
       "      <td>2</td>\n",
       "      <td>156</td>\n",
       "      <td>64</td>\n",
       "    </tr>\n",
       "    <tr>\n",
       "      <th>17</th>\n",
       "      <td>18</td>\n",
       "      <td>162</td>\n",
       "      <td>62</td>\n",
       "    </tr>\n",
       "    <tr>\n",
       "      <th>4</th>\n",
       "      <td>5</td>\n",
       "      <td>139</td>\n",
       "      <td>50</td>\n",
       "    </tr>\n",
       "    <tr>\n",
       "      <th>16</th>\n",
       "      <td>17</td>\n",
       "      <td>159</td>\n",
       "      <td>63</td>\n",
       "    </tr>\n",
       "    <tr>\n",
       "      <th>6</th>\n",
       "      <td>7</td>\n",
       "      <td>161</td>\n",
       "      <td>70</td>\n",
       "    </tr>\n",
       "  </tbody>\n",
       "</table>\n",
       "</div>"
      ],
      "text/plain": [
       "    index   Height  Weight\n",
       "1        2     156      64\n",
       "17      18     162      62\n",
       "4        5     139      50\n",
       "16      17     159      63\n",
       "6        7     161      70"
      ]
     },
     "execution_count": 7,
     "metadata": {},
     "output_type": "execute_result"
    }
   ],
   "source": [
    "# X_train before scaling\n",
    "X_train.head()"
   ]
  },
  {
   "cell_type": "markdown",
   "id": "c28f1551",
   "metadata": {},
   "source": [
    "## 1) Standardization"
   ]
  },
  {
   "cell_type": "code",
   "execution_count": 8,
   "id": "db482f99",
   "metadata": {},
   "outputs": [
    {
     "data": {
      "text/plain": [
       "array([[-1.51635079,  0.40141708,  0.52692446],\n",
       "       [ 1.28306606,  1.18965426,  0.1998679 ],\n",
       "       [-0.99146013, -1.83192159, -1.76247148],\n",
       "       [ 1.1081025 ,  0.79553567,  0.36339618],\n",
       "       [-0.64153303,  1.0582814 ,  1.50809415],\n",
       "       [-0.46656947, -0.64956582, -1.10835835],\n",
       "       [ 0.93313895, -0.51819296, -0.45424523],\n",
       "       [ 0.40824829, -1.70054873, -1.5989432 ],\n",
       "       [-0.11664237,  0.53278994,  0.36339618],\n",
       "       [ 0.23328474, -1.04368441, -0.45424523],\n",
       "       [ 1.63299316, -0.91231155, -0.61777351],\n",
       "       [ 1.45802961,  0.66416281,  0.52692446],\n",
       "       [ 0.58321184, -0.3868201 , -0.29071694],\n",
       "       [-0.81649658, -1.04368441, -0.94483007],\n",
       "       [-1.69131435,  0.79553567,  0.69045274],\n",
       "       [-0.29160592,  0.79553567,  0.1998679 ],\n",
       "       [-1.16642369,  1.58377285,  2.32573556],\n",
       "       [ 0.05832118,  0.27004422,  0.52692446]])"
      ]
     },
     "execution_count": 8,
     "metadata": {},
     "output_type": "execute_result"
    }
   ],
   "source": [
    "# Fit and transform using StandardScaler from sklearn\n",
    "from sklearn.preprocessing import StandardScaler\n",
    "SC = StandardScaler()\n",
    "X_train_Scaled=SC.fit_transform(X_train)\n",
    "X_train_Scaled"
   ]
  },
  {
   "cell_type": "code",
   "execution_count": 9,
   "id": "cde4a0ee",
   "metadata": {},
   "outputs": [
    {
     "data": {
      "text/plain": [
       "array([[ 1.,  1.,  0.],\n",
       "       [-1., -1.,  0.]])"
      ]
     },
     "execution_count": 9,
     "metadata": {},
     "output_type": "execute_result"
    }
   ],
   "source": [
    "# Scaled test data\n",
    "X_test_Scaled=SC.fit_transform(X_test)\n",
    "X_test_Scaled"
   ]
  },
  {
   "cell_type": "code",
   "execution_count": 10,
   "id": "59639842",
   "metadata": {},
   "outputs": [],
   "source": [
    "# Building a Linear regression model after standardization\n",
    "from sklearn.linear_model import LinearRegression\n",
    "LR = LinearRegression()\n",
    "LR.fit(X_train_Scaled,y_train)\n",
    "predict = LR.predict(X_test_Scaled)"
   ]
  },
  {
   "cell_type": "markdown",
   "id": "d6238fdc",
   "metadata": {},
   "source": [
    "## 2) MinMax Scaler"
   ]
  },
  {
   "cell_type": "code",
   "execution_count": 24,
   "id": "70c62207",
   "metadata": {},
   "outputs": [
    {
     "data": {
      "text/plain": [
       "array([[-1.51635079,  0.40141708,  0.52692446],\n",
       "       [ 1.28306606,  1.18965426,  0.1998679 ],\n",
       "       [-0.99146013, -1.83192159, -1.76247148],\n",
       "       [ 1.1081025 ,  0.79553567,  0.36339618],\n",
       "       [-0.64153303,  1.0582814 ,  1.50809415],\n",
       "       [-0.46656947, -0.64956582, -1.10835835],\n",
       "       [ 0.93313895, -0.51819296, -0.45424523],\n",
       "       [ 0.40824829, -1.70054873, -1.5989432 ],\n",
       "       [-0.11664237,  0.53278994,  0.36339618],\n",
       "       [ 0.23328474, -1.04368441, -0.45424523],\n",
       "       [ 1.63299316, -0.91231155, -0.61777351],\n",
       "       [ 1.45802961,  0.66416281,  0.52692446],\n",
       "       [ 0.58321184, -0.3868201 , -0.29071694],\n",
       "       [-0.81649658, -1.04368441, -0.94483007],\n",
       "       [-1.69131435,  0.79553567,  0.69045274],\n",
       "       [-0.29160592,  0.79553567,  0.1998679 ],\n",
       "       [-1.16642369,  1.58377285,  2.32573556],\n",
       "       [ 0.05832118,  0.27004422,  0.52692446]])"
      ]
     },
     "execution_count": 24,
     "metadata": {},
     "output_type": "execute_result"
    }
   ],
   "source": [
    "# Fit and transform using MinMaxScaler from sklearn\n",
    "from sklearn.preprocessing import MinMaxScaler\n",
    "MMS = StandardScaler()\n",
    "Scaled_X_train=MMS.fit_transform(X_train)\n",
    "X_train_Scaled"
   ]
  },
  {
   "cell_type": "code",
   "execution_count": 25,
   "id": "6fb43921",
   "metadata": {},
   "outputs": [
    {
     "data": {
      "text/plain": [
       "array([[ 1.,  1.,  0.],\n",
       "       [-1., -1.,  0.]])"
      ]
     },
     "execution_count": 25,
     "metadata": {},
     "output_type": "execute_result"
    }
   ],
   "source": [
    "# Scaled test data\n",
    "X_test_Scaled=MMS.fit_transform(X_test)\n",
    "X_test_Scaled"
   ]
  },
  {
   "cell_type": "markdown",
   "id": "25028672",
   "metadata": {},
   "source": [
    "## 3) Absolute Maximum Scaling"
   ]
  },
  {
   "cell_type": "code",
   "execution_count": 16,
   "id": "13e72502",
   "metadata": {},
   "outputs": [],
   "source": [
    "# Fit and transform using MaxAbsScaler from sklearn\n",
    "from sklearn.preprocessing import MaxAbsScaler\n",
    "MAS = MaxAbsScaler()\n",
    "NewData = MAS.fit_transform(Data)"
   ]
  },
  {
   "cell_type": "code",
   "execution_count": 18,
   "id": "da142710",
   "metadata": {},
   "outputs": [
    {
     "name": "stdout",
     "output_type": "stream",
     "text": [
      "[[0.05       0.96363636 0.86666667 0.49450549]\n",
      " [0.1        0.94545455 0.85333333 0.97802198]\n",
      " [0.15       0.91515152 0.8        0.21978022]\n",
      " [0.2        1.         1.         0.6043956 ]\n",
      " [0.25       0.84242424 0.66666667 0.67032967]\n",
      " [0.3        0.87878788 0.73333333 0.58241758]\n",
      " [0.35       0.97575758 0.93333333 1.        ]\n",
      " [0.4        0.8969697  0.72       0.52747253]\n",
      " [0.45       0.96363636 0.82666667 0.50549451]\n",
      " [0.5        0.95151515 0.84       0.98901099]\n",
      " [0.55       0.93939394 0.85333333 0.93406593]\n",
      " [0.6        0.87878788 0.77333333 0.61538462]\n",
      " [0.65       0.84848485 0.68       0.68131868]\n",
      " [0.7        0.90909091 0.78666667 0.63736264]\n",
      " [0.75       0.96969697 0.8        0.53846154]\n",
      " [0.8        0.9030303  0.77333333 0.56043956]\n",
      " [0.85       0.96363636 0.84       0.62637363]\n",
      " [0.9        0.98181818 0.82666667 0.58241758]\n",
      " [0.95       0.95757576 0.85333333 0.86813187]\n",
      " [1.         0.88484848 0.76       0.53846154]]\n"
     ]
    }
   ],
   "source": [
    "print(NewData)"
   ]
  },
  {
   "cell_type": "markdown",
   "id": "6c171f73",
   "metadata": {},
   "source": [
    "## 4) Robust Scaling"
   ]
  },
  {
   "cell_type": "code",
   "execution_count": 22,
   "id": "8b3d827d",
   "metadata": {},
   "outputs": [
    {
     "name": "stdout",
     "output_type": "stream",
     "text": [
      "[[-1.          0.30434783  0.64       -0.60869565]\n",
      " [-0.89473684  0.04347826  0.48        1.94202899]\n",
      " [-0.78947368 -0.39130435 -0.16       -2.05797101]\n",
      " [-0.68421053  0.82608696  2.24       -0.02898551]\n",
      " [-0.57894737 -1.43478261 -1.76        0.31884058]\n",
      " [-0.47368421 -0.91304348 -0.96       -0.14492754]\n",
      " [-0.36842105  0.47826087  1.44        2.05797101]\n",
      " [-0.26315789 -0.65217391 -1.12       -0.43478261]\n",
      " [-0.15789474  0.30434783  0.16       -0.55072464]\n",
      " [-0.05263158  0.13043478  0.32        2.        ]\n",
      " [ 0.05263158 -0.04347826  0.48        1.71014493]\n",
      " [ 0.15789474 -0.91304348 -0.48        0.02898551]\n",
      " [ 0.26315789 -1.34782609 -1.6         0.37681159]\n",
      " [ 0.36842105 -0.47826087 -0.32        0.14492754]\n",
      " [ 0.47368421  0.39130435 -0.16       -0.37681159]\n",
      " [ 0.57894737 -0.56521739 -0.48       -0.26086957]\n",
      " [ 0.68421053  0.30434783  0.32        0.08695652]\n",
      " [ 0.78947368  0.56521739  0.16       -0.14492754]\n",
      " [ 0.89473684  0.2173913   0.48        1.36231884]\n",
      " [ 1.         -0.82608696 -0.64       -0.37681159]]\n"
     ]
    }
   ],
   "source": [
    "# Fit and transform using RobustScaler from sklearn\n",
    "RS = preprocessing.RobustScaler()\n",
    "RobustData = RS.fit_transform(Data)\n",
    "print(RobustData)"
   ]
  },
  {
   "cell_type": "code",
   "execution_count": null,
   "id": "870e6863",
   "metadata": {},
   "outputs": [],
   "source": []
  }
 ],
 "metadata": {
  "kernelspec": {
   "display_name": "Python 3 (ipykernel)",
   "language": "python",
   "name": "python3"
  },
  "language_info": {
   "codemirror_mode": {
    "name": "ipython",
    "version": 3
   },
   "file_extension": ".py",
   "mimetype": "text/x-python",
   "name": "python",
   "nbconvert_exporter": "python",
   "pygments_lexer": "ipython3",
   "version": "3.9.12"
  }
 },
 "nbformat": 4,
 "nbformat_minor": 5
}
